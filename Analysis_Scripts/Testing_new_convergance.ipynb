{
 "cells": [
  {
   "cell_type": "code",
   "execution_count": 1,
   "metadata": {},
   "outputs": [
    {
     "name": "stderr",
     "output_type": "stream",
     "text": [
      "Warning on use of the timeseries module: If the inherent timescales of the system are long compared to those being analyzed, this statistical inefficiency may be an underestimate.  The estimate presumes the use of many statistically independent samples.  Tests should be performed to assess whether this condition is satisfied.   Be cautious in the interpretation of the data.\n",
      "\n",
      "****** PyMBAR will use 64-bit JAX! *******\n",
      "* JAX is currently set to 32-bit bitsize *\n",
      "* which is its default.                  *\n",
      "*                                        *\n",
      "* PyMBAR requires 64-bit mode and WILL   *\n",
      "* enable JAX's 64-bit mode when called.  *\n",
      "*                                        *\n",
      "* This MAY cause problems with other     *\n",
      "* Uses of JAX in the same code.          *\n",
      "******************************************\n",
      "\n"
     ]
    }
   ],
   "source": [
    "# Modules to import\n",
    "import argparse\n",
    "import os\n",
    "import pandas as pd\n",
    "import scipy.stats\n",
    "from simtk.unit import *\n",
    "import numpy as np\n",
    "import matplotlib.pyplot as plt\n",
    "from glob import glob\n",
    "from scipy.optimize import curve_fit\n",
    "from openmmtools.constants import STANDARD_STATE_VOLUME\n",
    "from tqdm import tqdm"
   ]
  },
  {
   "cell_type": "code",
   "execution_count": 2,
   "metadata": {},
   "outputs": [
    {
     "data": {
      "text/plain": [
       "'1.11.4'"
      ]
     },
     "execution_count": 2,
     "metadata": {},
     "output_type": "execute_result"
    }
   ],
   "source": [
    "scipy.__version__"
   ]
  },
  {
   "cell_type": "code",
   "execution_count": 3,
   "metadata": {},
   "outputs": [],
   "source": [
    "def calc_VGCMC(radius):\n",
    "    V = 4 / 3 * np.pi * radius**3\n",
    "    return V\n",
    "\n",
    "\n",
    "def calc_LigVol(conc):\n",
    "    V_l = 1 / (AVOGADRO_CONSTANT_NA * conc)\n",
    "    return V_l.in_units_of(angstroms**3)\n",
    "\n",
    "\n",
    "def calc_c_from_B(B, HFE, sphere_rad):\n",
    "    c = np.exp(B - (beta * HFE)) / (AVOGADRO_CONSTANT_NA * calc_VGCMC(sphere_rad))\n",
    "    return c.in_units_of(molar)\n",
    "\n",
    "\n",
    "def calcB(HFE, sphere_rad, V_L):\n",
    "    test = calc_VGCMC(sphere_rad) / (V_L)\n",
    "    B = (beta * HFE) + np.log(test)\n",
    "    return B\n",
    "\n",
    "\n",
    "def sigmoid(x, x0, k):\n",
    "    \"\"\"\n",
    "    1 / 1 + exp(-k(B-betadF))\n",
    "    Parameters\n",
    "    ----------\n",
    "    x\n",
    "    x0\n",
    "    k\n",
    "\n",
    "    Returns\n",
    "    -------\n",
    "\n",
    "    \"\"\"\n",
    "    y = 1 / (1 + np.exp(-k * (x - x0)))\n",
    "    return y\n",
    "\n",
    "rad = 8 * angstrom\n",
    "T = 298 * kelvin\n",
    "kT = (BOLTZMANN_CONSTANT_kB * T * AVOGADRO_CONSTANT_NA).in_units_of(\n",
    "    kilocalories_per_mole\n",
    ")\n",
    "beta = 1 / kT\n",
    "\n",
    "\n",
    "def gen_text(mean_B50, sem_B50, dF_trans, dF_trans_err, dG):\n",
    "    return r\"$B_{{50}} = \\beta \\Delta F_{{trans}} = {:.1f} \\pm {:.1f}$\".format(\n",
    "        mean_B50, sem_B50\n",
    "    ) + \"\\n\" + r\"$\\Delta F_{{trans}} = {:.1f} \\pm {:.1f}\\ kcal\\ mol^{{-1}}$\".format(\n",
    "        dF_trans._value, dF_trans_err._value\n",
    "    ) + \"\\n\" r\"$\\Delta G^{{o}}_{{bind}} = \\Delta F_{{trans}} + \\Delta F_{{ideal}} - \\Delta G_{{sol}}$\" + \"\\n\" + r\"$\\Delta G^{{o}}_{{bind}} = {:.1f} \\pm {:.1f}\\ kcal\\ mol^{{-1}}$\".format(\n",
    "        dG._value, dF_trans_err._value\n",
    "    )"
   ]
  },
  {
   "cell_type": "code",
   "execution_count": 151,
   "metadata": {},
   "outputs": [],
   "source": [
    "mu_df = pd.read_csv(\n",
    "    \"/home/will/data_6/LIG_GCNCMC_PAPER/REVIEW_ANALYSIS/titrations/Mu_ex.txt\",\n",
    "    converters={\"Name\": str},\n",
    ")\n",
    "\n",
    "ligands = mu_df[\"Name\"].to_list()\n",
    "ligands = [\"Thianaphthene\"]\n",
    "for lig in ligands:\n",
    "    mu_ex = mu_df[mu_df[\"Name\"] == lig][\"Mu_Ex\"].values[0] * kilocalories_per_mole\n",
    "    Bs = np.load(\n",
    "        f\"/home/will/data_6/LIG_GCNCMC_PAPER/REVIEW_ANALYSIS/TIT_CONVER/{lig}_B_values.npy\"\n",
    "    )\n",
    "    full_data = np.load(\n",
    "        f\"/home/will/data_6/LIG_GCNCMC_PAPER/REVIEW_ANALYSIS/TIT_CONVER/{lig}_full_data.npy\"\n",
    "    )\n",
    "\n",
    "    full_data[full_data[:, :, :] > 1] = 1  # Bring data to N_max = 1\n",
    "    occs = full_data[:, -1, :]"
   ]
  },
  {
   "cell_type": "code",
   "execution_count": 152,
   "metadata": {},
   "outputs": [
    {
     "data": {
      "text/plain": [
       "array([[0.   ,   nan,   nan,   nan,   nan],\n",
       "       [0.   ,   nan,   nan,   nan,   nan],\n",
       "       [0.   , 0.   , 0.   , 0.002, 0.003],\n",
       "       [0.   ,   nan,   nan,   nan,   nan],\n",
       "       [0.   ,   nan,   nan,   nan,   nan],\n",
       "       [0.003,   nan,   nan,   nan,   nan],\n",
       "       [0.003,   nan,   nan,   nan,   nan],\n",
       "       [0.004,   nan,   nan,   nan,   nan],\n",
       "       [0.008,   nan,   nan,   nan,   nan],\n",
       "       [0.054,   nan,   nan,   nan,   nan],\n",
       "       [  nan, 0.   , 0.003, 0.044, 0.   ],\n",
       "       [0.   ,   nan,   nan,   nan,   nan],\n",
       "       [  nan, 0.   , 0.001, 0.   , 0.019],\n",
       "       [0.005,   nan,   nan,   nan,   nan],\n",
       "       [0.001,   nan,   nan,   nan,   nan],\n",
       "       [  nan, 0.085, 0.   , 0.   , 0.022],\n",
       "       [0.   ,   nan,   nan,   nan,   nan],\n",
       "       [  nan, 0.048, 0.073, 0.025, 0.005],\n",
       "       [0.   ,   nan,   nan,   nan,   nan],\n",
       "       [0.   ,   nan,   nan,   nan,   nan],\n",
       "       [  nan, 0.027, 0.013, 0.029, 0.002],\n",
       "       [0.077,   nan,   nan,   nan,   nan],\n",
       "       [  nan, 0.   , 0.114, 0.038, 0.013],\n",
       "       [0.143,   nan,   nan,   nan,   nan],\n",
       "       [  nan, 0.094, 0.311, 0.106, 0.122],\n",
       "       [  nan, 0.169, 0.356, 0.137, 0.003],\n",
       "       [0.415, 0.817, 0.132, 0.013, 0.065],\n",
       "       [  nan, 0.156, 0.711, 0.021, 0.507],\n",
       "       [  nan, 0.621, 0.269, 0.673, 0.327],\n",
       "       [0.026,   nan,   nan,   nan,   nan],\n",
       "       [  nan, 0.833, 0.105, 0.556, 0.317],\n",
       "       [  nan, 0.703, 0.734, 0.936, 0.607],\n",
       "       [  nan, 0.657, 0.997, 0.826, 0.889],\n",
       "       [  nan, 0.713, 0.984, 0.761, 0.865],\n",
       "       [  nan, 0.771, 0.457, 0.921, 0.964],\n",
       "       [  nan, 0.961, 0.789, 0.983, 0.403],\n",
       "       [  nan, 0.907, 0.961, 0.923, 0.993],\n",
       "       [  nan, 1.   , 0.987, 1.   , 0.913]])"
      ]
     },
     "execution_count": 152,
     "metadata": {},
     "output_type": "execute_result"
    }
   ],
   "source": [
    "occs"
   ]
  },
  {
   "cell_type": "code",
   "execution_count": 78,
   "metadata": {},
   "outputs": [],
   "source": [
    "def fit_curve(Bs, occs, mu_ex, rad, beta=beta):\n",
    "    params = []\n",
    "    Nbs, Nrs = occs.shape\n",
    "    for r in range(Nrs):\n",
    "        initial_guess = [np.median(Bs), 1]\n",
    "        occ_list = occs[:, r]\n",
    "        Bs_filtered = Bs\n",
    "        occ_list_filtered = occ_list\n",
    "        popt, pcov = curve_fit(\n",
    "            sigmoid, Bs_filtered, occ_list_filtered, p0=initial_guess, maxfev=10000, nan_policy='omit'\n",
    "        )\n",
    "        params.append(popt)\n",
    "\n",
    "    mean_B50 = np.mean(params, axis=0)[0]\n",
    "    sem_B50 = np.std(params, axis=0)[0] / np.sqrt(len(params))\n",
    "\n",
    "    dF_trans = (mean_B50 / beta).in_units_of(kilocalories_per_mole)\n",
    "    dF_trans_err = sem_B50 * kilocalories_per_mole\n",
    "\n",
    "    dG = kT * np.log(calc_c_from_B(mean_B50, mu_ex, rad))\n",
    "    dG_err = kT * np.log(calc_c_from_B(mean_B50 + sem_B50, mu_ex, rad))\n",
    "    return params, mean_B50, sem_B50, dF_trans, dF_trans_err, dG, dG_err"
   ]
  },
  {
   "cell_type": "code",
   "execution_count": 175,
   "metadata": {},
   "outputs": [],
   "source": [
    "def inverse_sigmoid(Y, x0, k):\n",
    "    return (-np.log((1 - Y) / Y) / k) + x0\n",
    "\n",
    "\n",
    "def generate_bootstrap_data(n, occupancies, Bs):\n",
    "    # Generate lots of randome occupancy samples\n",
    "\n",
    "    Nbs, Nrs = occupancies.shape\n",
    "    bootstrap_data = np.zeros((Nbs, n))\n",
    "    for i in tqdm(range(Nbs)):\n",
    "        for j in range(n):\n",
    "            rand_repeat_id = np.random.randint(0, Nrs)\n",
    "            # while np.isnan(occupancies[i][rand_repeat_id]):\n",
    "            #     rand_repeat_id = np.random.randint(0, Nrs)\n",
    "            bootstrap_data[i][j] = occupancies[i][rand_repeat_id]\n",
    "\n",
    "    return bootstrap_data\n",
    "\n",
    "\n",
    "def plot_mean_curve(Bs, occs, ax, title):\n",
    "    B_fit = np.linspace(min(Bs), max(Bs), 500)\n",
    "    N_fit_all = []\n",
    "    tau = scipy.stats.kendalltau(Bs, np.nanmean(occs, axis=1), nan_policy=\"omit\")[0]\n",
    "    params, mean_B50, sem_B50, dF_trans, dF_trans_err, dG, dG_err = fit_curve(Bs, occs, mu_ex, rad)\n",
    "\n",
    "    # Calculate non fitted curves\n",
    "    fit = []\n",
    "    mean_params = np.mean(params, axis=0)\n",
    "    sem_params = np.std(params, axis=0) / np.sqrt(len(params))\n",
    "    for p in params:\n",
    "        fit.append(sigmoid(Bs, *p))\n",
    "\n",
    "    # Calculate fitted curves\n",
    "    for p in params:\n",
    "        N_fit = sigmoid(B_fit, *p)\n",
    "        N_fit_all.append(N_fit)\n",
    "\n",
    "    # Plot raw data\n",
    "    Nbs, Nrs = occs.shape\n",
    "    plotted_legend = False\n",
    "    for r in range(Nrs):\n",
    "        occ_list = occs[:, r]\n",
    "        if not plotted_legend:\n",
    "            ax.plot(\n",
    "                Bs,\n",
    "                occ_list,\n",
    "                marker=\"x\",\n",
    "                linestyle=\"None\",\n",
    "                c=\"black\",\n",
    "                label=\"Raw data \" + r\"($\\tau={:.3f}$)\".format(tau),\n",
    "            )\n",
    "            plotted_legend = True\n",
    "        else:\n",
    "            ax.plot(Bs, occ_list, marker=\"x\", linestyle=\"None\", c=\"black\")\n",
    "\n",
    "    N_fit_mean = np.mean(fit, axis=0)\n",
    "    N_fit_SEM = np.std(fit, axis=0) / np.sqrt(len(fit))\n",
    "    N_fit_mean = sigmoid(Bs, *mean_params)\n",
    "    N_fit_SEM = sigmoid(Bs, *(mean_params+sem_params))\n",
    "\n",
    "    # np.std(fit, axis=0)[0] / np.sqrt(len(fit))\n",
    "\n",
    "    B_fit = Bs\n",
    "    tau_fit = scipy.stats.kendalltau(Bs, N_fit_mean, nan_policy=\"omit\")[0]\n",
    "    ax.plot(\n",
    "        B_fit,\n",
    "        N_fit_mean,\n",
    "        \"-\",\n",
    "        color=\"#04e762\",\n",
    "        label=\"Mean Fit\" + r\" ($\\tau={:.3f}$)\".format(tau_fit),\n",
    "    )\n",
    "    ax.fill_between(\n",
    "        B_fit,\n",
    "        sigmoid(Bs, *(mean_params-sem_params)),\n",
    "        sigmoid(Bs, *(mean_params + sem_params)),\n",
    "        alpha=0.5,\n",
    "        lw=0,\n",
    "        color=\"#000080\",\n",
    "    )\n",
    "\n",
    "    # x50 = [mean_B50, mean_B50]\n",
    "    # y50 = [0, 0.5]\n",
    "    y_vline = sigmoid(mean_B50, *np.mean(params, axis=0))\n",
    "    print(\"y_vline\", y_vline)\n",
    "\n",
    "    ax.vlines(mean_B50, 0, y_vline, linestyle=\"--\", color=\"k\") \n",
    "    # ax.plot(x50, y50, linestyle=\"--\", c=\"k\")\n",
    "\n",
    "    # Add the text at the bottom right\n",
    "    ax.text(\n",
    "        0.98,\n",
    "        0.05,\n",
    "        gen_text(mean_B50, sem_B50, dF_trans, dF_trans_err, dG),\n",
    "        transform=ax.transAxes,\n",
    "        verticalalignment=\"bottom\",\n",
    "        horizontalalignment=\"right\",\n",
    "        fontsize=12,\n",
    "        bbox=dict(facecolor=\"white\", alpha=0.8),\n",
    "    )\n",
    "    ax.set_title(title)\n",
    "    ax.set_xlabel(\"Adams value, $B$\")\n",
    "    ax.set_ylabel(r\"Average N\")\n",
    "    ax.legend(loc=\"upper left\")"
   ]
  },
  {
   "cell_type": "code",
   "execution_count": null,
   "metadata": {},
   "outputs": [],
   "source": []
  },
  {
   "cell_type": "code",
   "execution_count": 156,
   "metadata": {},
   "outputs": [
    {
     "data": {
      "text/plain": [
       "array([0.     , 0.     , 0.001  , 0.     , 0.     , 0.003  , 0.003  ,\n",
       "       0.004  , 0.008  , 0.054  , 0.01175, 0.     , 0.005  , 0.005  ,\n",
       "       0.001  , 0.02675, 0.     , 0.03775, 0.     , 0.     , 0.01775,\n",
       "       0.077  , 0.04125, 0.143  , 0.15825, 0.16625, 0.2884 , 0.34875,\n",
       "       0.4725 , 0.026  , 0.45275, 0.745  , 0.84225, 0.83075, 0.77825,\n",
       "       0.784  , 0.946  , 0.975  ])"
      ]
     },
     "execution_count": 156,
     "metadata": {},
     "output_type": "execute_result"
    }
   ],
   "source": [
    "np.nanmean(occs, axis=1)"
   ]
  },
  {
   "cell_type": "code",
   "execution_count": 136,
   "metadata": {},
   "outputs": [
    {
     "name": "stderr",
     "output_type": "stream",
     "text": [
      "100%|██████████| 20/20 [00:00<00:00, 81.66it/s]\n"
     ]
    }
   ],
   "source": [
    "bootoccs = generate_bootstrap_data(5000, occs, Bs)"
   ]
  },
  {
   "cell_type": "code",
   "execution_count": 137,
   "metadata": {},
   "outputs": [
    {
     "data": {
      "text/plain": [
       "array([[0.   , 0.   , 0.   , ..., 0.   , 0.   , 0.   ],\n",
       "       [0.   , 0.   , 0.   , ..., 0.   , 0.   , 0.   ],\n",
       "       [0.   , 0.   , 0.   , ..., 0.   , 0.   , 0.   ],\n",
       "       ...,\n",
       "       [0.958, 0.955, 0.955, ..., 0.958, 0.739, 0.955],\n",
       "       [0.978, 1.   , 1.   , ..., 1.   , 1.   , 1.   ],\n",
       "       [  nan, 1.   , 1.   , ..., 1.   , 1.   , 1.   ]])"
      ]
     },
     "execution_count": 137,
     "metadata": {},
     "output_type": "execute_result"
    }
   ],
   "source": [
    "bootoccs"
   ]
  },
  {
   "cell_type": "code",
   "execution_count": 138,
   "metadata": {},
   "outputs": [
    {
     "data": {
      "text/plain": [
       "array([[0.   , 0.   , 0.   , 0.   ],\n",
       "       [0.   , 0.   , 0.   , 0.   ],\n",
       "       [0.   , 0.   , 0.   , 0.   ],\n",
       "       [0.   , 0.   , 0.   , 0.   ],\n",
       "       [0.   , 0.   , 0.   ,   nan],\n",
       "       [0.   , 0.002, 0.   ,   nan],\n",
       "       [0.   , 0.   , 0.003, 0.   ],\n",
       "       [0.   , 0.   , 0.   ,   nan],\n",
       "       [0.   , 0.001, 0.   , 0.   ],\n",
       "       [0.006, 0.003, 0.009, 0.   ],\n",
       "       [0.01 , 0.063, 0.   ,   nan],\n",
       "       [0.006, 0.032, 0.117, 0.007],\n",
       "       [0.033, 0.013, 0.04 , 0.001],\n",
       "       [0.341, 0.063, 0.026, 0.02 ],\n",
       "       [0.142, 0.21 , 0.066, 0.194],\n",
       "       [0.619, 0.195, 0.171, 0.413],\n",
       "       [0.712, 0.633, 0.763, 0.98 ],\n",
       "       [0.955, 0.869, 0.739, 0.958],\n",
       "       [1.   , 1.   , 0.978, 1.   ],\n",
       "       [1.   , 1.   , 1.   ,   nan]])"
      ]
     },
     "execution_count": 138,
     "metadata": {},
     "output_type": "execute_result"
    }
   ],
   "source": [
    "occs"
   ]
  },
  {
   "cell_type": "code",
   "execution_count": 139,
   "metadata": {},
   "outputs": [],
   "source": [
    "occs\n",
    "params, mean_B50, sem_B50, dF_trans, dF_trans_err, dG, dG_err = fit_curve(\n",
    "    Bs, occs, mu_ex, rad\n",
    ")\n"
   ]
  },
  {
   "cell_type": "code",
   "execution_count": 169,
   "metadata": {},
   "outputs": [
    {
     "data": {
      "text/plain": [
       "4"
      ]
     },
     "execution_count": 169,
     "metadata": {},
     "output_type": "execute_result"
    }
   ],
   "source": [
    "len(params)"
   ]
  },
  {
   "cell_type": "code",
   "execution_count": null,
   "metadata": {},
   "outputs": [],
   "source": []
  },
  {
   "cell_type": "code",
   "execution_count": 172,
   "metadata": {},
   "outputs": [
    {
     "data": {
      "text/plain": [
       "array([-7.68781355,  2.87642715])"
      ]
     },
     "execution_count": 172,
     "metadata": {},
     "output_type": "execute_result"
    }
   ],
   "source": [
    "np.mean(params, axis=0) + np.std(params, axis=0) / np.sqrt(len(params))"
   ]
  },
  {
   "cell_type": "code",
   "execution_count": null,
   "metadata": {},
   "outputs": [],
   "source": []
  },
  {
   "cell_type": "code",
   "execution_count": 140,
   "metadata": {},
   "outputs": [
    {
     "data": {
      "text/plain": [
       "-7.824765147600015"
      ]
     },
     "execution_count": 140,
     "metadata": {},
     "output_type": "execute_result"
    }
   ],
   "source": [
    "mean_B50"
   ]
  },
  {
   "cell_type": "code",
   "execution_count": 141,
   "metadata": {},
   "outputs": [
    {
     "data": {
      "text/plain": [
       "array([[0.   , 0.   , 0.   , 0.   ],\n",
       "       [0.   , 0.   , 0.   , 0.   ],\n",
       "       [0.   , 0.   , 0.   , 0.   ],\n",
       "       [0.   , 0.   , 0.   , 0.   ],\n",
       "       [0.   , 0.   , 0.   ,   nan],\n",
       "       [0.   , 0.002, 0.   ,   nan],\n",
       "       [0.   , 0.   , 0.003, 0.   ],\n",
       "       [0.   , 0.   , 0.   ,   nan],\n",
       "       [0.   , 0.001, 0.   , 0.   ],\n",
       "       [0.006, 0.003, 0.009, 0.   ],\n",
       "       [0.01 , 0.063, 0.   ,   nan],\n",
       "       [0.006, 0.032, 0.117, 0.007],\n",
       "       [0.033, 0.013, 0.04 , 0.001],\n",
       "       [0.341, 0.063, 0.026, 0.02 ],\n",
       "       [0.142, 0.21 , 0.066, 0.194],\n",
       "       [0.619, 0.195, 0.171, 0.413],\n",
       "       [0.712, 0.633, 0.763, 0.98 ],\n",
       "       [0.955, 0.869, 0.739, 0.958],\n",
       "       [1.   , 1.   , 0.978, 1.   ],\n",
       "       [1.   , 1.   , 1.   ,   nan]])"
      ]
     },
     "execution_count": 141,
     "metadata": {},
     "output_type": "execute_result"
    }
   ],
   "source": [
    "full_data[:, -1, :]"
   ]
  },
  {
   "cell_type": "code",
   "execution_count": 142,
   "metadata": {},
   "outputs": [
    {
     "data": {
      "text/plain": [
       "array([[0.   , 0.   , 0.   , 0.   ],\n",
       "       [0.   , 0.   , 0.   , 0.   ],\n",
       "       [0.   , 0.   , 0.   , 0.   ],\n",
       "       [0.   , 0.   , 0.   , 0.   ],\n",
       "       [0.   , 0.   , 0.   ,   nan],\n",
       "       [0.   , 0.002, 0.   ,   nan],\n",
       "       [0.   , 0.   , 0.003, 0.   ],\n",
       "       [0.   , 0.   , 0.   ,   nan],\n",
       "       [0.   , 0.001, 0.   , 0.   ],\n",
       "       [0.006, 0.003, 0.009, 0.   ],\n",
       "       [0.01 , 0.063, 0.   ,   nan],\n",
       "       [0.006, 0.032, 0.117, 0.007],\n",
       "       [0.033, 0.013, 0.04 , 0.001],\n",
       "       [0.341, 0.063, 0.026, 0.02 ],\n",
       "       [0.142, 0.21 , 0.066, 0.194],\n",
       "       [0.619, 0.195, 0.171, 0.413],\n",
       "       [0.712, 0.633, 0.763, 0.98 ],\n",
       "       [0.955, 0.869, 0.739, 0.958],\n",
       "       [1.   , 1.   , 0.978, 1.   ],\n",
       "       [1.   , 1.   , 1.   ,   nan]])"
      ]
     },
     "execution_count": 142,
     "metadata": {},
     "output_type": "execute_result"
    }
   ],
   "source": [
    "occs"
   ]
  },
  {
   "cell_type": "code",
   "execution_count": 143,
   "metadata": {},
   "outputs": [
    {
     "data": {
      "text/plain": [
       "-7.824765147600015"
      ]
     },
     "execution_count": 143,
     "metadata": {},
     "output_type": "execute_result"
    }
   ],
   "source": [
    "mean_B50"
   ]
  },
  {
   "cell_type": "code",
   "execution_count": 144,
   "metadata": {},
   "outputs": [],
   "source": [
    "b50s = [0]\n",
    "sems = [0]\n",
    "# convergance bits\n",
    "steps = np.arange(100, 1600, 100)\n",
    "for step in steps:\n",
    "    step_data = full_data[:, step-1, :]\n",
    "    params, mean_B50, sem_B50, dF_trans, dF_trans_err, dG, dG_err = fit_curve(\n",
    "        Bs, step_data, mu_ex, rad\n",
    "    )\n",
    "    b50s.append(mean_B50)\n",
    "    sems.append(sem_B50)"
   ]
  },
  {
   "cell_type": "code",
   "execution_count": 145,
   "metadata": {},
   "outputs": [
    {
     "data": {
      "text/plain": [
       "[0,\n",
       " -7.3418911753293745,\n",
       " -7.23663378322887,\n",
       " -7.377028609810097,\n",
       " -7.4410617056895525,\n",
       " -7.480421872594597,\n",
       " -7.433916408457332,\n",
       " -7.498774025043041,\n",
       " -7.5820841093559945,\n",
       " -7.610669859752482,\n",
       " -7.61168801857572,\n",
       " -7.664928125357104,\n",
       " -7.70218228028703,\n",
       " -7.800265367784474,\n",
       " -7.800146328501322,\n",
       " -7.824765147600015]"
      ]
     },
     "execution_count": 145,
     "metadata": {},
     "output_type": "execute_result"
    }
   ],
   "source": [
    "b50s"
   ]
  },
  {
   "cell_type": "code",
   "execution_count": 146,
   "metadata": {},
   "outputs": [],
   "source": [
    "def plot_convergance(steps, b50s, sems, ax):\n",
    "    ax.errorbar(\n",
    "        steps,\n",
    "        b50s[1:],\n",
    "        yerr=sems[1:],\n",
    "        fmt=\"o\",\n",
    "        ecolor='r',\n",
    "        markersize=10,\n",
    "        markeredgewidth=3,\n",
    "        markerfacecolor=\"white\",\n",
    "        markeredgecolor=\"red\",\n",
    "        linestyle=\"none\",\n",
    "        elinewidth=2\n",
    "    )\n",
    "    # ax.plot(steps, b50s[1:], marker=\"o\", linestyle=\"None\", mfc=\"none\", ms=10, c='r')\n",
    "    # Plot the line connecting the data points\n",
    "    ax.plot(steps, b50s[1:], ls=\"-\", label=\"Fit line\", lw=2, c='r')\n",
    "    ax.fill_between(steps, b50s[-1] - sems[-1], b50s[-1] + sems[-1], color='gray', alpha=0.2)\n",
    "\n",
    "    # Add labels and legend\n",
    "    ax.set_xlabel(\"Number of GCNCMC Moves\")\n",
    "    ax.set_ylabel(\"B50\")"
   ]
  },
  {
   "cell_type": "code",
   "execution_count": 176,
   "metadata": {},
   "outputs": [
    {
     "name": "stdout",
     "output_type": "stream",
     "text": [
      "y_vline 0.5\n"
     ]
    },
    {
     "data": {
      "image/png": "[encoded data removed]",
      "text/plain": [
       "<Figure size 1500x700 with 3 Axes>"
      ]
     },
     "metadata": {},
     "output_type": "display_data"
    }
   ],
   "source": [
    "fig = plt.figure(figsize=(15, 7))\n",
    "axes = fig.subplot_mosaic(\n",
    "    \"\"\"AB\n",
    "                             CC\"\"\"\n",
    ")  # Raw, Booted, Convergance\n",
    "\n",
    "plot_mean_curve(Bs, occs, axes[\"A\"], \"Raw Data\")\n",
    "#bootoccs = generate_bootstrap_data(5000, occs, Bs)\n",
    "#plot_mean_curve(Bs, bootoccs, axes[\"B\"], \"Bootstrapped\")\n",
    "plot_convergance(steps, b50s, sems, axes[\"C\"])"
   ]
  },
  {
   "cell_type": "code",
   "execution_count": 15,
   "metadata": {},
   "outputs": [
    {
     "data": {
      "text/plain": [
       "(20,)"
      ]
     },
     "execution_count": 15,
     "metadata": {},
     "output_type": "execute_result"
    }
   ],
   "source": [
    "Bs.shape"
   ]
  },
  {
   "cell_type": "code",
   "execution_count": 16,
   "metadata": {},
   "outputs": [
    {
     "data": {
      "text/plain": [
       "array([-21.3117549 , -19.0091698 , -16.70658471, -14.40399962,\n",
       "       -13.6955119 , -12.98702418, -12.27853646, -11.57004874,\n",
       "       -10.86156101, -10.15307329,  -9.44458557,  -8.73609785,\n",
       "        -8.02761013,  -7.31912241,  -6.61063469,  -5.90214697,\n",
       "        -5.19365925,  -2.89107415,  -0.58848906,   1.71409603])"
      ]
     },
     "execution_count": 16,
     "metadata": {},
     "output_type": "execute_result"
    }
   ],
   "source": [
    "Bs"
   ]
  },
  {
   "cell_type": "code",
   "execution_count": 38,
   "metadata": {},
   "outputs": [],
   "source": []
  },
  {
   "cell_type": "code",
   "execution_count": 39,
   "metadata": {},
   "outputs": [
    {
     "data": {
      "text/plain": [
       "array([[[ 0.,  0.,  0.,  0.],\n",
       "        [ 0.,  0.,  0.,  0.],\n",
       "        [ 0.,  0.,  0.,  0.],\n",
       "        ...,\n",
       "        [ 0., nan,  0.,  0.],\n",
       "        [ 0., nan,  0.,  0.],\n",
       "        [ 0., nan,  0.,  0.]],\n",
       "\n",
       "       [[ 0.,  0.,  0.,  0.],\n",
       "        [ 0.,  0.,  0.,  0.],\n",
       "        [ 0.,  0.,  0.,  0.],\n",
       "        ...,\n",
       "        [ 0., nan,  0.,  0.],\n",
       "        [ 0., nan,  0.,  0.],\n",
       "        [ 0., nan,  0.,  0.]],\n",
       "\n",
       "       [[ 0.,  0.,  0.,  0.],\n",
       "        [ 0.,  0.,  0.,  0.],\n",
       "        [ 0.,  0.,  0.,  0.],\n",
       "        ...,\n",
       "        [nan,  0.,  0.,  0.],\n",
       "        [nan,  0.,  0.,  0.],\n",
       "        [nan,  0.,  0.,  0.]],\n",
       "\n",
       "       ...,\n",
       "\n",
       "       [[ 1.,  1.,  1.,  1.],\n",
       "        [ 1.,  1.,  1.,  1.],\n",
       "        [ 1.,  1.,  1.,  1.],\n",
       "        ...,\n",
       "        [nan,  1., nan, nan],\n",
       "        [nan,  1., nan, nan],\n",
       "        [nan,  1., nan, nan]],\n",
       "\n",
       "       [[ 1.,  1.,  1.,  1.],\n",
       "        [ 1.,  1.,  1.,  1.],\n",
       "        [ 1.,  1.,  1.,  1.],\n",
       "        ...,\n",
       "        [nan,  1., nan, nan],\n",
       "        [nan,  1., nan, nan],\n",
       "        [nan,  1., nan, nan]],\n",
       "\n",
       "       [[ 1.,  1.,  1.,  1.],\n",
       "        [ 1.,  1.,  1.,  1.],\n",
       "        [ 1.,  1.,  1.,  1.],\n",
       "        ...,\n",
       "        [ 1., nan, nan, nan],\n",
       "        [ 1., nan, nan, nan],\n",
       "        [ 1., nan, nan, nan]]])"
      ]
     },
     "execution_count": 39,
     "metadata": {},
     "output_type": "execute_result"
    }
   ],
   "source": [
    "full_data\n"
   ]
  },
  {
   "cell_type": "code",
   "execution_count": 33,
   "metadata": {},
   "outputs": [
    {
     "ename": "IndexError",
     "evalue": "boolean index did not match indexed array along dimension 0; dimension is 20 but corresponding boolean dimension is 1500",
     "output_type": "error",
     "traceback": [
      "\u001b[0;31m---------------------------------------------------------------------------\u001b[0m",
      "\u001b[0;31mIndexError\u001b[0m                                Traceback (most recent call last)",
      "Cell \u001b[0;32mIn[33], line 1\u001b[0m\n\u001b[0;32m----> 1\u001b[0m last_non_nan \u001b[38;5;241m=\u001b[39m \u001b[43mfull_data\u001b[49m\u001b[43m[\u001b[49m\u001b[43m:\u001b[49m\u001b[43m,\u001b[49m\u001b[43m \u001b[49m\u001b[43m:\u001b[49m\u001b[43m]\u001b[49m\u001b[43m[\u001b[49m\u001b[38;5;241;43m~\u001b[39;49m\u001b[43mnp\u001b[49m\u001b[38;5;241;43m.\u001b[39;49m\u001b[43misnan\u001b[49m\u001b[43m(\u001b[49m\u001b[43mfull_data\u001b[49m\u001b[43m[\u001b[49m\u001b[38;5;241;43m-\u001b[39;49m\u001b[38;5;241;43m1\u001b[39;49m\u001b[43m,\u001b[49m\u001b[43m \u001b[49m\u001b[43m:\u001b[49m\u001b[43m]\u001b[49m\u001b[43m)\u001b[49m\u001b[43m]\u001b[49m\n\u001b[1;32m      2\u001b[0m \u001b[38;5;28mprint\u001b[39m(last_non_nan)\n",
      "\u001b[0;31mIndexError\u001b[0m: boolean index did not match indexed array along dimension 0; dimension is 20 but corresponding boolean dimension is 1500"
     ]
    }
   ],
   "source": []
  },
  {
   "cell_type": "code",
   "execution_count": null,
   "metadata": {},
   "outputs": [],
   "source": []
  }
 ],
 "metadata": {
  "kernelspec": {
   "display_name": "OMM8.0",
   "language": "python",
   "name": "python3"
  },
  "language_info": {
   "codemirror_mode": {
    "name": "ipython",
    "version": 3
   },
   "file_extension": ".py",
   "mimetype": "text/x-python",
   "name": "python",
   "nbconvert_exporter": "python",
   "pygments_lexer": "ipython3",
   "version": "3.9.16"
  }
 },
 "nbformat": 4,
 "nbformat_minor": 2
}
